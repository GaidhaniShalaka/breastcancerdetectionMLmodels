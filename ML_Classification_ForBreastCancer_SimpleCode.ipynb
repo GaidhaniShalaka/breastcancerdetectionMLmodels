{
 "cells": [
  {
   "cell_type": "markdown",
   "metadata": {
    "id": "Sd6RjNjzibtV"
   },
   "source": [
    "Example from: https://www.datacamp.com/tutorial/svm-classification-scikit-learn-python"
   ]
  },
  {
   "cell_type": "markdown",
   "metadata": {
    "id": "XgS3vNsGibtX"
   },
   "source": [
    "Let's first load the required dataset you will use."
   ]
  },
  {
   "cell_type": "code",
   "execution_count": 30,
   "metadata": {
    "id": "giB0N-4mibtX"
   },
   "outputs": [],
   "source": [
    "#Import scikit-learn dataset library\n",
    "from sklearn import datasets\n",
    "\n",
    "#Load dataset\n",
    "cancer = datasets.load_breast_cancer()"
   ]
  },
  {
   "cell_type": "markdown",
   "metadata": {
    "id": "hAQ-RG2BibtY"
   },
   "source": [
    "Exploring Data\n",
    "\n",
    "After you have loaded the dataset, you might want to know a little bit more about it. You can check feature and target names."
   ]
  },
  {
   "cell_type": "code",
   "execution_count": 31,
   "metadata": {
    "colab": {
     "base_uri": "https://localhost:8080/"
    },
    "id": "pRvOwq9jibtY",
    "outputId": "94a5b4bc-8706-4eac-87a0-c11ddd1a50bd"
   },
   "outputs": [
    {
     "name": "stdout",
     "output_type": "stream",
     "text": [
      "Features:  ['mean radius' 'mean texture' 'mean perimeter' 'mean area'\n",
      " 'mean smoothness' 'mean compactness' 'mean concavity'\n",
      " 'mean concave points' 'mean symmetry' 'mean fractal dimension'\n",
      " 'radius error' 'texture error' 'perimeter error' 'area error'\n",
      " 'smoothness error' 'compactness error' 'concavity error'\n",
      " 'concave points error' 'symmetry error' 'fractal dimension error'\n",
      " 'worst radius' 'worst texture' 'worst perimeter' 'worst area'\n",
      " 'worst smoothness' 'worst compactness' 'worst concavity'\n",
      " 'worst concave points' 'worst symmetry' 'worst fractal dimension']\n",
      "Labels:  ['malignant' 'benign']\n"
     ]
    }
   ],
   "source": [
    "# print the names of the 13 features\n",
    "print(\"Features: \", cancer.feature_names)\n",
    "\n",
    "# print the label type of cancer('malignant' 'benign')\n",
    "print(\"Labels: \", cancer.target_names)"
   ]
  },
  {
   "cell_type": "markdown",
   "metadata": {
    "id": "Mm0gkTjtibtY"
   },
   "source": [
    "Splitting Data\n",
    "\n",
    "To understand model performance, dividing the dataset into a training set and a test set is a good strategy.\n",
    "\n",
    "Split the dataset by using the function train_test_split(). you need to pass 3 parameters features, target, and test_set size. Additionally, you can use random_state to select records randomly."
   ]
  },
  {
   "cell_type": "code",
   "execution_count": 32,
   "metadata": {
    "id": "Phsrkg87ibtY"
   },
   "outputs": [],
   "source": [
    "# Import train_test_split function\n",
    "from sklearn.model_selection import train_test_split,GridSearchCV\n",
    "\n",
    "# Split dataset into training set and test set\n",
    "X_train, X_test, y_train, y_test = train_test_split(cancer.data, cancer.target, test_size=0.3,random_state=109) # 70% training and 30% test"
   ]
  },
  {
   "cell_type": "markdown",
   "metadata": {
    "id": "woaG9R-8ibtY"
   },
   "source": [
    "Generating Model\n",
    "\n",
    "Let's build support vector machine model. First, import the SVM module and create support vector classifier object by passing argument kernel as the linear kernel in SVC() function.\n",
    "\n",
    "Then, fit your model on train set using fit() and perform prediction on the test set using predict()."
   ]
  },
  {
   "cell_type": "code",
   "execution_count": 33,
   "metadata": {
    "id": "x3qi8SctibtZ"
   },
   "outputs": [],
   "source": [
    "#Import svm model\n",
    "from sklearn import svm\n",
    "\n",
    "#Create a svm Classifier\n",
    "clf = svm.SVC(kernel='linear') # Linear Kernel\n",
    "\n",
    "#Train the model using the training sets\n",
    "clf.fit(X_train, y_train)\n",
    "\n",
    "#Predict the response for test dataset\n",
    "y_pred = clf.predict(X_test)\n",
    "\n"
   ]
  },
  {
   "cell_type": "markdown",
   "metadata": {
    "id": "_JSbNyhQibtZ"
   },
   "source": [
    "Evaluating the Model\n",
    "\n",
    "Let's estimate how accurately the classifier or model can predict the breast cancer of patients.\n",
    "\n",
    "Accuracy can be computed by comparing actual test set values and predicted values."
   ]
  },
  {
   "cell_type": "code",
   "execution_count": 34,
   "metadata": {
    "colab": {
     "base_uri": "https://localhost:8080/"
    },
    "id": "PokuYpIiibtZ",
    "outputId": "fc842334-3e98-480a-cb9b-6037f456eca5"
   },
   "outputs": [
    {
     "name": "stdout",
     "output_type": "stream",
     "text": [
      "Accuracy: 0.9649122807017544\n"
     ]
    }
   ],
   "source": [
    "#Import scikit-learn metrics module for accuracy calculation\n",
    "from sklearn import metrics\n",
    "\n",
    "# Model Accuracy: how often is the classifier correct?\n",
    "print(\"Accuracy:\",metrics.accuracy_score(y_test, y_pred))"
   ]
  },
  {
   "cell_type": "markdown",
   "metadata": {
    "id": "wFH9QnWPibtZ"
   },
   "source": [
    "Well, you got a classification rate of 96.49%, considered as very good accuracy.\n",
    "\n",
    "For further evaluation, you can also check precision and recall of model."
   ]
  },
  {
   "cell_type": "code",
   "execution_count": 35,
   "metadata": {
    "colab": {
     "base_uri": "https://localhost:8080/"
    },
    "id": "GtzQVobwibtZ",
    "outputId": "f3a2294b-e426-4482-c9df-328ded5e8550"
   },
   "outputs": [
    {
     "name": "stdout",
     "output_type": "stream",
     "text": [
      "Precision: 0.9811320754716981\n",
      "Recall: 0.9629629629629629\n"
     ]
    }
   ],
   "source": [
    "# Model Precision: what percentage of positive tuples are labeled as such?\n",
    "print(\"Precision:\",metrics.precision_score(y_test, y_pred))\n",
    "\n",
    "# Model Recall: what percentage of positive tuples are labelled as such?\n",
    "print(\"Recall:\",metrics.recall_score(y_test, y_pred))"
   ]
  },
  {
   "cell_type": "markdown",
   "metadata": {
    "id": "abUe6iKtcJEP"
   },
   "source": [
    "# MODELS"
   ]
  },
  {
   "cell_type": "code",
   "execution_count": 36,
   "metadata": {
    "colab": {
     "base_uri": "https://localhost:8080/"
    },
    "id": "OfJU1aC4cP5w",
    "outputId": "11a71b3b-4ad8-4ddf-c530-ff80d2ed70ca"
   },
   "outputs": [
    {
     "data": {
      "text/plain": [
       "(569, 30)"
      ]
     },
     "execution_count": 36,
     "metadata": {},
     "output_type": "execute_result"
    }
   ],
   "source": [
    "#Find the dimensions of Data set\n",
    "cancer.data.shape"
   ]
  },
  {
   "cell_type": "code",
   "execution_count": 37,
   "metadata": {
    "colab": {
     "base_uri": "https://localhost:8080/",
     "height": 502
    },
    "id": "3i2FU3xQo_Kp",
    "outputId": "8776386b-3230-458a-f999-b09da87e7188"
   },
   "outputs": [
    {
     "data": {
      "image/png": "[encoded data removed]",
      "text/plain": [
       "<Figure size 1200x800 with 1 Axes>"
      ]
     },
     "metadata": {},
     "output_type": "display_data"
    }
   ],
   "source": [
    "import seaborn as sns\n",
    "import matplotlib.pyplot as plt\n",
    "\n",
    "fig = plt.figure(figsize =(12, 8))\n",
    "\n",
    "# Plot the distribution of the target variable\n",
    "sns.countplot(x=cancer.target)\n",
    "sns.set(rc={'figure.figsize':(4,5)})\n",
    "plt.xticks([0, 1], ['Malignant', 'Benign'])\n",
    "plt.xlabel('Diagnosis')\n",
    "plt.ylabel('Count')\n",
    "plt.show()"
   ]
  },
  {
   "cell_type": "markdown",
   "metadata": {
    "id": "s-TEsfC1OkgM"
   },
   "source": [
    "Since our data is imbalanced, we use stratified k-fold cross validation to split our target classes with equal proportion."
   ]
  },
  {
   "cell_type": "code",
   "execution_count": 38,
   "metadata": {
    "id": "p8d6xwLhNtcw"
   },
   "outputs": [],
   "source": [
    "from sklearn.model_selection import StratifiedKFold\n",
    "#K-fold cross validation\n",
    "cv = StratifiedKFold(n_splits=10, random_state=100, shuffle=True)"
   ]
  },
  {
   "cell_type": "markdown",
   "metadata": {
    "id": "2roOKRfyPC98"
   },
   "source": [
    "# SVM using KFold and Grid search cv"
   ]
  },
  {
   "cell_type": "code",
   "execution_count": 39,
   "metadata": {
    "id": "OukmmyUPKneo"
   },
   "outputs": [
    {
     "name": "stdout",
     "output_type": "stream",
     "text": [
      "Fitting 10 folds for each of 32 candidates, totalling 320 fits\n",
      "[CV 1/10] END ....C=0.1, gamma=1, kernel=linear;, score=0.975 total time=   0.0s\n",
      "[CV 2/10] END ....C=0.1, gamma=1, kernel=linear;, score=0.925 total time=   0.0s\n",
      "[CV 3/10] END ....C=0.1, gamma=1, kernel=linear;, score=0.925 total time=   0.0s\n",
      "[CV 4/10] END ....C=0.1, gamma=1, kernel=linear;, score=0.975 total time=   0.2s\n",
      "[CV 5/10] END ....C=0.1, gamma=1, kernel=linear;, score=0.875 total time=   0.0s\n",
      "[CV 6/10] END ....C=0.1, gamma=1, kernel=linear;, score=0.950 total time=   0.2s\n",
      "[CV 7/10] END ....C=0.1, gamma=1, kernel=linear;, score=0.950 total time=   0.0s\n",
      "[CV 8/10] END ....C=0.1, gamma=1, kernel=linear;, score=0.925 total time=   0.0s\n",
      "[CV 9/10] END ....C=0.1, gamma=1, kernel=linear;, score=0.949 total time=   0.1s\n",
      "[CV 10/10] END ...C=0.1, gamma=1, kernel=linear;, score=0.949 total time=   0.0s\n",
      "[CV 1/10] END .......C=0.1, gamma=1, kernel=rbf;, score=0.625 total time=   0.0s\n",
      "[CV 2/10] END .......C=0.1, gamma=1, kernel=rbf;, score=0.625 total time=   0.0s\n",
      "[CV 3/10] END .......C=0.1, gamma=1, kernel=rbf;, score=0.625 total time=   0.0s\n",
      "[CV 4/10] END .......C=0.1, gamma=1, kernel=rbf;, score=0.625 total time=   0.0s\n",
      "[CV 5/10] END .......C=0.1, gamma=1, kernel=rbf;, score=0.625 total time=   0.0s\n",
      "[CV 6/10] END .......C=0.1, gamma=1, kernel=rbf;, score=0.625 total time=   0.0s\n",
      "[CV 7/10] END .......C=0.1, gamma=1, kernel=rbf;, score=0.625 total time=   0.0s\n",
      "[CV 8/10] END .......C=0.1, gamma=1, kernel=rbf;, score=0.625 total time=   0.0s\n",
      "[CV 9/10] END .......C=0.1, gamma=1, kernel=rbf;, score=0.615 total time=   0.0s\n",
      "[CV 10/10] END ......C=0.1, gamma=1, kernel=rbf;, score=0.641 total time=   0.0s\n",
      "[CV 1/10] END ..C=0.1, gamma=0.1, kernel=linear;, score=0.975 total time=   0.0s\n",
      "[CV 2/10] END ..C=0.1, gamma=0.1, kernel=linear;, score=0.925 total time=   0.0s\n",
      "[CV 3/10] END ..C=0.1, gamma=0.1, kernel=linear;, score=0.925 total time=   0.0s\n",
      "[CV 4/10] END ..C=0.1, gamma=0.1, kernel=linear;, score=0.975 total time=   0.2s\n",
      "[CV 5/10] END ..C=0.1, gamma=0.1, kernel=linear;, score=0.875 total time=   0.0s\n",
      "[CV 6/10] END ..C=0.1, gamma=0.1, kernel=linear;, score=0.950 total time=   0.2s\n",
      "[CV 7/10] END ..C=0.1, gamma=0.1, kernel=linear;, score=0.950 total time=   0.0s\n",
      "[CV 8/10] END ..C=0.1, gamma=0.1, kernel=linear;, score=0.925 total time=   0.0s\n",
      "[CV 9/10] END ..C=0.1, gamma=0.1, kernel=linear;, score=0.949 total time=   0.1s\n",
      "[CV 10/10] END .C=0.1, gamma=0.1, kernel=linear;, score=0.949 total time=   0.0s\n",
      "[CV 1/10] END .....C=0.1, gamma=0.1, kernel=rbf;, score=0.625 total time=   0.0s\n",
      "[CV 2/10] END .....C=0.1, gamma=0.1, kernel=rbf;, score=0.625 total time=   0.0s\n",
      "[CV 3/10] END .....C=0.1, gamma=0.1, kernel=rbf;, score=0.625 total time=   0.0s\n",
      "[CV 4/10] END .....C=0.1, gamma=0.1, kernel=rbf;, score=0.625 total time=   0.0s\n",
      "[CV 5/10] END .....C=0.1, gamma=0.1, kernel=rbf;, score=0.625 total time=   0.0s\n",
      "[CV 6/10] END .....C=0.1, gamma=0.1, kernel=rbf;, score=0.625 total time=   0.0s\n",
      "[CV 7/10] END .....C=0.1, gamma=0.1, kernel=rbf;, score=0.625 total time=   0.0s\n",
      "[CV 8/10] END .....C=0.1, gamma=0.1, kernel=rbf;, score=0.625 total time=   0.0s\n",
      "[CV 9/10] END .....C=0.1, gamma=0.1, kernel=rbf;, score=0.615 total time=   0.0s\n",
      "[CV 10/10] END ....C=0.1, gamma=0.1, kernel=rbf;, score=0.641 total time=   0.0s\n",
      "[CV 1/10] END .C=0.1, gamma=0.01, kernel=linear;, score=0.975 total time=   0.0s\n",
      "[CV 2/10] END .C=0.1, gamma=0.01, kernel=linear;, score=0.925 total time=   0.0s\n",
      "[CV 3/10] END .C=0.1, gamma=0.01, kernel=linear;, score=0.925 total time=   0.0s\n",
      "[CV 4/10] END .C=0.1, gamma=0.01, kernel=linear;, score=0.975 total time=   0.2s\n",
      "[CV 5/10] END .C=0.1, gamma=0.01, kernel=linear;, score=0.875 total time=   0.0s\n",
      "[CV 6/10] END .C=0.1, gamma=0.01, kernel=linear;, score=0.950 total time=   0.2s\n",
      "[CV 7/10] END .C=0.1, gamma=0.01, kernel=linear;, score=0.950 total time=   0.0s\n",
      "[CV 8/10] END .C=0.1, gamma=0.01, kernel=linear;, score=0.925 total time=   0.0s\n",
      "[CV 9/10] END .C=0.1, gamma=0.01, kernel=linear;, score=0.949 total time=   0.1s\n",
      "[CV 10/10] END C=0.1, gamma=0.01, kernel=linear;, score=0.949 total time=   0.0s\n",
      "[CV 1/10] END ....C=0.1, gamma=0.01, kernel=rbf;, score=0.625 total time=   0.0s\n",
      "[CV 2/10] END ....C=0.1, gamma=0.01, kernel=rbf;, score=0.625 total time=   0.0s\n",
      "[CV 3/10] END ....C=0.1, gamma=0.01, kernel=rbf;, score=0.625 total time=   0.0s\n",
      "[CV 4/10] END ....C=0.1, gamma=0.01, kernel=rbf;, score=0.625 total time=   0.0s\n",
      "[CV 5/10] END ....C=0.1, gamma=0.01, kernel=rbf;, score=0.625 total time=   0.0s\n",
      "[CV 6/10] END ....C=0.1, gamma=0.01, kernel=rbf;, score=0.625 total time=   0.0s\n",
      "[CV 7/10] END ....C=0.1, gamma=0.01, kernel=rbf;, score=0.625 total time=   0.0s\n",
      "[CV 8/10] END ....C=0.1, gamma=0.01, kernel=rbf;, score=0.625 total time=   0.0s\n",
      "[CV 9/10] END ....C=0.1, gamma=0.01, kernel=rbf;, score=0.615 total time=   0.0s\n",
      "[CV 10/10] END ...C=0.1, gamma=0.01, kernel=rbf;, score=0.641 total time=   0.0s\n",
      "[CV 1/10] END C=0.1, gamma=0.001, kernel=linear;, score=0.975 total time=   0.0s\n",
      "[CV 2/10] END C=0.1, gamma=0.001, kernel=linear;, score=0.925 total time=   0.0s\n",
      "[CV 3/10] END C=0.1, gamma=0.001, kernel=linear;, score=0.925 total time=   0.0s\n",
      "[CV 4/10] END C=0.1, gamma=0.001, kernel=linear;, score=0.975 total time=   0.2s\n",
      "[CV 5/10] END C=0.1, gamma=0.001, kernel=linear;, score=0.875 total time=   0.0s\n",
      "[CV 6/10] END C=0.1, gamma=0.001, kernel=linear;, score=0.950 total time=   0.2s\n",
      "[CV 7/10] END C=0.1, gamma=0.001, kernel=linear;, score=0.950 total time=   0.0s\n",
      "[CV 8/10] END C=0.1, gamma=0.001, kernel=linear;, score=0.925 total time=   0.0s\n",
      "[CV 9/10] END C=0.1, gamma=0.001, kernel=linear;, score=0.949 total time=   0.1s\n",
      "[CV 10/10] END C=0.1, gamma=0.001, kernel=linear;, score=0.949 total time=   0.0s\n",
      "[CV 1/10] END ...C=0.1, gamma=0.001, kernel=rbf;, score=0.625 total time=   0.0s\n",
      "[CV 2/10] END ...C=0.1, gamma=0.001, kernel=rbf;, score=0.625 total time=   0.0s\n",
      "[CV 3/10] END ...C=0.1, gamma=0.001, kernel=rbf;, score=0.625 total time=   0.0s\n",
      "[CV 4/10] END ...C=0.1, gamma=0.001, kernel=rbf;, score=0.625 total time=   0.0s\n",
      "[CV 5/10] END ...C=0.1, gamma=0.001, kernel=rbf;, score=0.625 total time=   0.0s\n",
      "[CV 6/10] END ...C=0.1, gamma=0.001, kernel=rbf;, score=0.625 total time=   0.0s\n",
      "[CV 7/10] END ...C=0.1, gamma=0.001, kernel=rbf;, score=0.625 total time=   0.0s\n",
      "[CV 8/10] END ...C=0.1, gamma=0.001, kernel=rbf;, score=0.625 total time=   0.0s\n",
      "[CV 9/10] END ...C=0.1, gamma=0.001, kernel=rbf;, score=0.615 total time=   0.0s\n",
      "[CV 10/10] END ..C=0.1, gamma=0.001, kernel=rbf;, score=0.641 total time=   0.0s\n",
      "[CV 1/10] END ......C=1, gamma=1, kernel=linear;, score=0.975 total time=   0.8s\n",
      "[CV 2/10] END ......C=1, gamma=1, kernel=linear;, score=0.925 total time=   2.6s\n",
      "[CV 3/10] END ......C=1, gamma=1, kernel=linear;, score=0.900 total time=   0.6s\n",
      "[CV 4/10] END ......C=1, gamma=1, kernel=linear;, score=0.975 total time=   1.1s\n",
      "[CV 5/10] END ......C=1, gamma=1, kernel=linear;, score=0.925 total time=   1.2s\n",
      "[CV 6/10] END ......C=1, gamma=1, kernel=linear;, score=0.900 total time=   1.1s\n",
      "[CV 7/10] END ......C=1, gamma=1, kernel=linear;, score=0.975 total time=   0.7s\n",
      "[CV 8/10] END ......C=1, gamma=1, kernel=linear;, score=0.925 total time=   0.5s\n",
      "[CV 9/10] END ......C=1, gamma=1, kernel=linear;, score=0.949 total time=   5.7s\n",
      "[CV 10/10] END .....C=1, gamma=1, kernel=linear;, score=0.949 total time=   0.7s\n",
      "[CV 1/10] END .........C=1, gamma=1, kernel=rbf;, score=0.625 total time=   0.0s\n",
      "[CV 2/10] END .........C=1, gamma=1, kernel=rbf;, score=0.625 total time=   0.0s\n",
      "[CV 3/10] END .........C=1, gamma=1, kernel=rbf;, score=0.625 total time=   0.0s\n",
      "[CV 4/10] END .........C=1, gamma=1, kernel=rbf;, score=0.625 total time=   0.0s\n",
      "[CV 5/10] END .........C=1, gamma=1, kernel=rbf;, score=0.625 total time=   0.0s\n",
      "[CV 6/10] END .........C=1, gamma=1, kernel=rbf;, score=0.625 total time=   0.0s\n",
      "[CV 7/10] END .........C=1, gamma=1, kernel=rbf;, score=0.625 total time=   0.0s\n",
      "[CV 8/10] END .........C=1, gamma=1, kernel=rbf;, score=0.625 total time=   0.0s\n",
      "[CV 9/10] END .........C=1, gamma=1, kernel=rbf;, score=0.615 total time=   0.0s\n",
      "[CV 10/10] END ........C=1, gamma=1, kernel=rbf;, score=0.641 total time=   0.0s\n",
      "[CV 1/10] END ....C=1, gamma=0.1, kernel=linear;, score=0.975 total time=   0.9s\n",
      "[CV 2/10] END ....C=1, gamma=0.1, kernel=linear;, score=0.925 total time=   2.6s\n",
      "[CV 3/10] END ....C=1, gamma=0.1, kernel=linear;, score=0.900 total time=   0.5s\n",
      "[CV 4/10] END ....C=1, gamma=0.1, kernel=linear;, score=0.975 total time=   1.0s\n",
      "[CV 5/10] END ....C=1, gamma=0.1, kernel=linear;, score=0.925 total time=   1.2s\n",
      "[CV 6/10] END ....C=1, gamma=0.1, kernel=linear;, score=0.900 total time=   1.1s\n",
      "[CV 7/10] END ....C=1, gamma=0.1, kernel=linear;, score=0.975 total time=   0.7s\n",
      "[CV 8/10] END ....C=1, gamma=0.1, kernel=linear;, score=0.925 total time=   0.5s\n",
      "[CV 9/10] END ....C=1, gamma=0.1, kernel=linear;, score=0.949 total time=   5.7s\n",
      "[CV 10/10] END ...C=1, gamma=0.1, kernel=linear;, score=0.949 total time=   0.7s\n",
      "[CV 1/10] END .......C=1, gamma=0.1, kernel=rbf;, score=0.625 total time=   0.0s\n",
      "[CV 2/10] END .......C=1, gamma=0.1, kernel=rbf;, score=0.625 total time=   0.0s\n",
      "[CV 3/10] END .......C=1, gamma=0.1, kernel=rbf;, score=0.625 total time=   0.0s\n",
      "[CV 4/10] END .......C=1, gamma=0.1, kernel=rbf;, score=0.625 total time=   0.0s\n",
      "[CV 5/10] END .......C=1, gamma=0.1, kernel=rbf;, score=0.625 total time=   0.0s\n",
      "[CV 6/10] END .......C=1, gamma=0.1, kernel=rbf;, score=0.625 total time=   0.0s\n",
      "[CV 7/10] END .......C=1, gamma=0.1, kernel=rbf;, score=0.625 total time=   0.0s\n",
      "[CV 8/10] END .......C=1, gamma=0.1, kernel=rbf;, score=0.625 total time=   0.0s\n",
      "[CV 9/10] END .......C=1, gamma=0.1, kernel=rbf;, score=0.615 total time=   0.0s\n",
      "[CV 10/10] END ......C=1, gamma=0.1, kernel=rbf;, score=0.641 total time=   0.0s\n",
      "[CV 1/10] END ...C=1, gamma=0.01, kernel=linear;, score=0.975 total time=   0.8s\n",
      "[CV 2/10] END ...C=1, gamma=0.01, kernel=linear;, score=0.925 total time=   2.6s\n",
      "[CV 3/10] END ...C=1, gamma=0.01, kernel=linear;, score=0.900 total time=   0.5s\n",
      "[CV 4/10] END ...C=1, gamma=0.01, kernel=linear;, score=0.975 total time=   1.0s\n",
      "[CV 5/10] END ...C=1, gamma=0.01, kernel=linear;, score=0.925 total time=   1.2s\n",
      "[CV 6/10] END ...C=1, gamma=0.01, kernel=linear;, score=0.900 total time=   1.1s\n",
      "[CV 7/10] END ...C=1, gamma=0.01, kernel=linear;, score=0.975 total time=   0.7s\n",
      "[CV 8/10] END ...C=1, gamma=0.01, kernel=linear;, score=0.925 total time=   0.5s\n",
      "[CV 9/10] END ...C=1, gamma=0.01, kernel=linear;, score=0.949 total time=   5.8s\n",
      "[CV 10/10] END ..C=1, gamma=0.01, kernel=linear;, score=0.949 total time=   0.7s\n",
      "[CV 1/10] END ......C=1, gamma=0.01, kernel=rbf;, score=0.625 total time=   0.0s\n",
      "[CV 2/10] END ......C=1, gamma=0.01, kernel=rbf;, score=0.625 total time=   0.0s\n",
      "[CV 3/10] END ......C=1, gamma=0.01, kernel=rbf;, score=0.625 total time=   0.0s\n",
      "[CV 4/10] END ......C=1, gamma=0.01, kernel=rbf;, score=0.625 total time=   0.0s\n",
      "[CV 5/10] END ......C=1, gamma=0.01, kernel=rbf;, score=0.625 total time=   0.0s\n",
      "[CV 6/10] END ......C=1, gamma=0.01, kernel=rbf;, score=0.625 total time=   0.0s\n",
      "[CV 7/10] END ......C=1, gamma=0.01, kernel=rbf;, score=0.625 total time=   0.0s\n",
      "[CV 8/10] END ......C=1, gamma=0.01, kernel=rbf;, score=0.625 total time=   0.0s\n",
      "[CV 9/10] END ......C=1, gamma=0.01, kernel=rbf;, score=0.615 total time=   0.0s\n",
      "[CV 10/10] END .....C=1, gamma=0.01, kernel=rbf;, score=0.615 total time=   0.0s\n",
      "[CV 1/10] END ..C=1, gamma=0.001, kernel=linear;, score=0.975 total time=   0.9s\n",
      "[CV 2/10] END ..C=1, gamma=0.001, kernel=linear;, score=0.925 total time=   2.6s\n",
      "[CV 3/10] END ..C=1, gamma=0.001, kernel=linear;, score=0.900 total time=   0.5s\n",
      "[CV 4/10] END ..C=1, gamma=0.001, kernel=linear;, score=0.975 total time=   1.0s\n",
      "[CV 5/10] END ..C=1, gamma=0.001, kernel=linear;, score=0.925 total time=   1.2s\n",
      "[CV 6/10] END ..C=1, gamma=0.001, kernel=linear;, score=0.900 total time=   1.1s\n",
      "[CV 7/10] END ..C=1, gamma=0.001, kernel=linear;, score=0.975 total time=   0.7s\n",
      "[CV 8/10] END ..C=1, gamma=0.001, kernel=linear;, score=0.925 total time=   0.5s\n",
      "[CV 9/10] END ..C=1, gamma=0.001, kernel=linear;, score=0.949 total time=   5.7s\n",
      "[CV 10/10] END .C=1, gamma=0.001, kernel=linear;, score=0.949 total time=   0.7s\n",
      "[CV 1/10] END .....C=1, gamma=0.001, kernel=rbf;, score=0.950 total time=   0.0s\n",
      "[CV 2/10] END .....C=1, gamma=0.001, kernel=rbf;, score=0.875 total time=   0.0s\n",
      "[CV 3/10] END .....C=1, gamma=0.001, kernel=rbf;, score=0.875 total time=   0.0s\n",
      "[CV 4/10] END .....C=1, gamma=0.001, kernel=rbf;, score=0.875 total time=   0.0s\n",
      "[CV 5/10] END .....C=1, gamma=0.001, kernel=rbf;, score=0.950 total time=   0.0s\n",
      "[CV 6/10] END .....C=1, gamma=0.001, kernel=rbf;, score=0.925 total time=   0.0s\n",
      "[CV 7/10] END .....C=1, gamma=0.001, kernel=rbf;, score=0.875 total time=   0.0s\n",
      "[CV 8/10] END .....C=1, gamma=0.001, kernel=rbf;, score=0.900 total time=   0.0s\n",
      "[CV 9/10] END .....C=1, gamma=0.001, kernel=rbf;, score=0.821 total time=   0.0s\n",
      "[CV 10/10] END ....C=1, gamma=0.001, kernel=rbf;, score=0.872 total time=   0.0s\n",
      "[CV 1/10] END .....C=10, gamma=1, kernel=linear;, score=0.975 total time=   3.1s\n",
      "[CV 2/10] END .....C=10, gamma=1, kernel=linear;, score=0.950 total time=   1.6s\n",
      "[CV 3/10] END .....C=10, gamma=1, kernel=linear;, score=0.950 total time=   1.3s\n",
      "[CV 4/10] END .....C=10, gamma=1, kernel=linear;, score=0.975 total time=   1.1s\n",
      "[CV 5/10] END .....C=10, gamma=1, kernel=linear;, score=0.925 total time=   1.8s\n",
      "[CV 6/10] END .....C=10, gamma=1, kernel=linear;, score=0.900 total time=   4.0s\n",
      "[CV 7/10] END .....C=10, gamma=1, kernel=linear;, score=0.975 total time=   2.7s\n",
      "[CV 8/10] END .....C=10, gamma=1, kernel=linear;, score=0.950 total time=   1.1s\n",
      "[CV 9/10] END .....C=10, gamma=1, kernel=linear;, score=0.974 total time=   3.4s\n",
      "[CV 10/10] END ....C=10, gamma=1, kernel=linear;, score=0.974 total time=   2.8s\n",
      "[CV 1/10] END ........C=10, gamma=1, kernel=rbf;, score=0.625 total time=   0.0s\n",
      "[CV 2/10] END ........C=10, gamma=1, kernel=rbf;, score=0.625 total time=   0.0s\n",
      "[CV 3/10] END ........C=10, gamma=1, kernel=rbf;, score=0.625 total time=   0.0s\n",
      "[CV 4/10] END ........C=10, gamma=1, kernel=rbf;, score=0.625 total time=   0.0s\n",
      "[CV 5/10] END ........C=10, gamma=1, kernel=rbf;, score=0.625 total time=   0.0s\n",
      "[CV 6/10] END ........C=10, gamma=1, kernel=rbf;, score=0.625 total time=   0.0s\n",
      "[CV 7/10] END ........C=10, gamma=1, kernel=rbf;, score=0.625 total time=   0.0s\n",
      "[CV 8/10] END ........C=10, gamma=1, kernel=rbf;, score=0.625 total time=   0.0s\n",
      "[CV 9/10] END ........C=10, gamma=1, kernel=rbf;, score=0.615 total time=   0.0s\n",
      "[CV 10/10] END .......C=10, gamma=1, kernel=rbf;, score=0.641 total time=   0.0s\n",
      "[CV 1/10] END ...C=10, gamma=0.1, kernel=linear;, score=0.975 total time=   3.1s\n",
      "[CV 2/10] END ...C=10, gamma=0.1, kernel=linear;, score=0.950 total time=   1.6s\n",
      "[CV 3/10] END ...C=10, gamma=0.1, kernel=linear;, score=0.950 total time=   1.3s\n",
      "[CV 4/10] END ...C=10, gamma=0.1, kernel=linear;, score=0.975 total time=   1.1s\n",
      "[CV 5/10] END ...C=10, gamma=0.1, kernel=linear;, score=0.925 total time=   1.8s\n",
      "[CV 6/10] END ...C=10, gamma=0.1, kernel=linear;, score=0.900 total time=   4.0s\n",
      "[CV 7/10] END ...C=10, gamma=0.1, kernel=linear;, score=0.975 total time=   2.8s\n",
      "[CV 8/10] END ...C=10, gamma=0.1, kernel=linear;, score=0.950 total time=   1.1s\n",
      "[CV 9/10] END ...C=10, gamma=0.1, kernel=linear;, score=0.974 total time=   3.4s\n",
      "[CV 10/10] END ..C=10, gamma=0.1, kernel=linear;, score=0.974 total time=   2.9s\n",
      "[CV 1/10] END ......C=10, gamma=0.1, kernel=rbf;, score=0.625 total time=   0.0s\n",
      "[CV 2/10] END ......C=10, gamma=0.1, kernel=rbf;, score=0.625 total time=   0.0s\n",
      "[CV 3/10] END ......C=10, gamma=0.1, kernel=rbf;, score=0.625 total time=   0.0s\n",
      "[CV 4/10] END ......C=10, gamma=0.1, kernel=rbf;, score=0.625 total time=   0.0s\n",
      "[CV 5/10] END ......C=10, gamma=0.1, kernel=rbf;, score=0.625 total time=   0.0s\n",
      "[CV 6/10] END ......C=10, gamma=0.1, kernel=rbf;, score=0.625 total time=   0.0s\n",
      "[CV 7/10] END ......C=10, gamma=0.1, kernel=rbf;, score=0.625 total time=   0.0s\n",
      "[CV 8/10] END ......C=10, gamma=0.1, kernel=rbf;, score=0.625 total time=   0.0s\n",
      "[CV 9/10] END ......C=10, gamma=0.1, kernel=rbf;, score=0.615 total time=   0.0s\n",
      "[CV 10/10] END .....C=10, gamma=0.1, kernel=rbf;, score=0.641 total time=   0.0s\n",
      "[CV 1/10] END ..C=10, gamma=0.01, kernel=linear;, score=0.975 total time=   3.1s\n",
      "[CV 2/10] END ..C=10, gamma=0.01, kernel=linear;, score=0.950 total time=   1.6s\n",
      "[CV 3/10] END ..C=10, gamma=0.01, kernel=linear;, score=0.950 total time=   1.3s\n",
      "[CV 4/10] END ..C=10, gamma=0.01, kernel=linear;, score=0.975 total time=   1.1s\n",
      "[CV 5/10] END ..C=10, gamma=0.01, kernel=linear;, score=0.925 total time=   1.8s\n",
      "[CV 6/10] END ..C=10, gamma=0.01, kernel=linear;, score=0.900 total time=   4.0s\n",
      "[CV 7/10] END ..C=10, gamma=0.01, kernel=linear;, score=0.975 total time=   2.8s\n",
      "[CV 8/10] END ..C=10, gamma=0.01, kernel=linear;, score=0.950 total time=   1.1s\n",
      "[CV 9/10] END ..C=10, gamma=0.01, kernel=linear;, score=0.974 total time=   3.4s\n",
      "[CV 10/10] END .C=10, gamma=0.01, kernel=linear;, score=0.974 total time=   2.9s\n",
      "[CV 1/10] END .....C=10, gamma=0.01, kernel=rbf;, score=0.625 total time=   0.0s\n",
      "[CV 2/10] END .....C=10, gamma=0.01, kernel=rbf;, score=0.625 total time=   0.0s\n",
      "[CV 3/10] END .....C=10, gamma=0.01, kernel=rbf;, score=0.625 total time=   0.0s\n",
      "[CV 4/10] END .....C=10, gamma=0.01, kernel=rbf;, score=0.625 total time=   0.0s\n",
      "[CV 5/10] END .....C=10, gamma=0.01, kernel=rbf;, score=0.625 total time=   0.0s\n",
      "[CV 6/10] END .....C=10, gamma=0.01, kernel=rbf;, score=0.625 total time=   0.0s\n",
      "[CV 7/10] END .....C=10, gamma=0.01, kernel=rbf;, score=0.650 total time=   0.0s\n",
      "[CV 8/10] END .....C=10, gamma=0.01, kernel=rbf;, score=0.625 total time=   0.0s\n",
      "[CV 9/10] END .....C=10, gamma=0.01, kernel=rbf;, score=0.615 total time=   0.0s\n",
      "[CV 10/10] END ....C=10, gamma=0.01, kernel=rbf;, score=0.641 total time=   0.0s\n",
      "[CV 1/10] END .C=10, gamma=0.001, kernel=linear;, score=0.975 total time=   3.1s\n",
      "[CV 2/10] END .C=10, gamma=0.001, kernel=linear;, score=0.950 total time=   1.6s\n",
      "[CV 3/10] END .C=10, gamma=0.001, kernel=linear;, score=0.950 total time=   1.3s\n",
      "[CV 4/10] END .C=10, gamma=0.001, kernel=linear;, score=0.975 total time=   1.1s\n",
      "[CV 5/10] END .C=10, gamma=0.001, kernel=linear;, score=0.925 total time=   1.8s\n",
      "[CV 6/10] END .C=10, gamma=0.001, kernel=linear;, score=0.900 total time=   4.0s\n",
      "[CV 7/10] END .C=10, gamma=0.001, kernel=linear;, score=0.975 total time=   2.7s\n",
      "[CV 8/10] END .C=10, gamma=0.001, kernel=linear;, score=0.950 total time=   1.1s\n",
      "[CV 9/10] END .C=10, gamma=0.001, kernel=linear;, score=0.974 total time=   3.4s\n",
      "[CV 10/10] END C=10, gamma=0.001, kernel=linear;, score=0.974 total time=   2.8s\n",
      "[CV 1/10] END ....C=10, gamma=0.001, kernel=rbf;, score=0.925 total time=   0.0s\n",
      "[CV 2/10] END ....C=10, gamma=0.001, kernel=rbf;, score=0.875 total time=   0.0s\n",
      "[CV 3/10] END ....C=10, gamma=0.001, kernel=rbf;, score=0.850 total time=   0.0s\n",
      "[CV 4/10] END ....C=10, gamma=0.001, kernel=rbf;, score=0.900 total time=   0.0s\n",
      "[CV 5/10] END ....C=10, gamma=0.001, kernel=rbf;, score=0.900 total time=   0.0s\n",
      "[CV 6/10] END ....C=10, gamma=0.001, kernel=rbf;, score=0.925 total time=   0.0s\n",
      "[CV 7/10] END ....C=10, gamma=0.001, kernel=rbf;, score=0.875 total time=   0.0s\n",
      "[CV 8/10] END ....C=10, gamma=0.001, kernel=rbf;, score=0.925 total time=   0.0s\n",
      "[CV 9/10] END ....C=10, gamma=0.001, kernel=rbf;, score=0.795 total time=   0.0s\n",
      "[CV 10/10] END ...C=10, gamma=0.001, kernel=rbf;, score=0.872 total time=   0.0s\n",
      "[CV 1/10] END ....C=100, gamma=1, kernel=linear;, score=0.975 total time=  10.1s\n",
      "[CV 2/10] END ....C=100, gamma=1, kernel=linear;, score=0.975 total time=   4.4s\n",
      "[CV 3/10] END ....C=100, gamma=1, kernel=linear;, score=0.925 total time=   8.0s\n",
      "[CV 4/10] END ....C=100, gamma=1, kernel=linear;, score=0.975 total time=   5.4s\n",
      "[CV 5/10] END ....C=100, gamma=1, kernel=linear;, score=0.850 total time=  11.1s\n",
      "[CV 6/10] END ....C=100, gamma=1, kernel=linear;, score=0.900 total time=   5.2s\n",
      "[CV 7/10] END ....C=100, gamma=1, kernel=linear;, score=0.975 total time=   7.7s\n",
      "[CV 8/10] END ....C=100, gamma=1, kernel=linear;, score=0.950 total time=   1.8s\n",
      "[CV 9/10] END ....C=100, gamma=1, kernel=linear;, score=0.974 total time=   5.4s\n",
      "[CV 10/10] END ...C=100, gamma=1, kernel=linear;, score=0.974 total time=  11.5s\n",
      "[CV 1/10] END .......C=100, gamma=1, kernel=rbf;, score=0.625 total time=   0.0s\n",
      "[CV 2/10] END .......C=100, gamma=1, kernel=rbf;, score=0.625 total time=   0.0s\n",
      "[CV 3/10] END .......C=100, gamma=1, kernel=rbf;, score=0.625 total time=   0.0s\n",
      "[CV 4/10] END .......C=100, gamma=1, kernel=rbf;, score=0.625 total time=   0.0s\n",
      "[CV 5/10] END .......C=100, gamma=1, kernel=rbf;, score=0.625 total time=   0.0s\n",
      "[CV 6/10] END .......C=100, gamma=1, kernel=rbf;, score=0.625 total time=   0.0s\n",
      "[CV 7/10] END .......C=100, gamma=1, kernel=rbf;, score=0.625 total time=   0.0s\n",
      "[CV 8/10] END .......C=100, gamma=1, kernel=rbf;, score=0.625 total time=   0.0s\n",
      "[CV 9/10] END .......C=100, gamma=1, kernel=rbf;, score=0.615 total time=   0.0s\n",
      "[CV 10/10] END ......C=100, gamma=1, kernel=rbf;, score=0.641 total time=   0.0s\n",
      "[CV 1/10] END ..C=100, gamma=0.1, kernel=linear;, score=0.975 total time=  11.2s\n",
      "[CV 2/10] END ..C=100, gamma=0.1, kernel=linear;, score=0.975 total time=   5.1s\n",
      "[CV 3/10] END ..C=100, gamma=0.1, kernel=linear;, score=0.925 total time=   8.2s\n",
      "[CV 4/10] END ..C=100, gamma=0.1, kernel=linear;, score=0.975 total time=   5.6s\n",
      "[CV 5/10] END ..C=100, gamma=0.1, kernel=linear;, score=0.850 total time=  11.0s\n",
      "[CV 6/10] END ..C=100, gamma=0.1, kernel=linear;, score=0.900 total time=   5.2s\n",
      "[CV 7/10] END ..C=100, gamma=0.1, kernel=linear;, score=0.975 total time=   8.1s\n",
      "[CV 8/10] END ..C=100, gamma=0.1, kernel=linear;, score=0.950 total time=   2.0s\n",
      "[CV 9/10] END ..C=100, gamma=0.1, kernel=linear;, score=0.974 total time=   5.0s\n",
      "[CV 10/10] END .C=100, gamma=0.1, kernel=linear;, score=0.974 total time=   9.8s\n",
      "[CV 1/10] END .....C=100, gamma=0.1, kernel=rbf;, score=0.625 total time=   0.0s\n",
      "[CV 2/10] END .....C=100, gamma=0.1, kernel=rbf;, score=0.625 total time=   0.0s\n",
      "[CV 3/10] END .....C=100, gamma=0.1, kernel=rbf;, score=0.625 total time=   0.0s\n",
      "[CV 4/10] END .....C=100, gamma=0.1, kernel=rbf;, score=0.625 total time=   0.0s\n",
      "[CV 5/10] END .....C=100, gamma=0.1, kernel=rbf;, score=0.625 total time=   0.0s\n",
      "[CV 6/10] END .....C=100, gamma=0.1, kernel=rbf;, score=0.625 total time=   0.0s\n",
      "[CV 7/10] END .....C=100, gamma=0.1, kernel=rbf;, score=0.625 total time=   0.0s\n",
      "[CV 8/10] END .....C=100, gamma=0.1, kernel=rbf;, score=0.625 total time=   0.0s\n",
      "[CV 9/10] END .....C=100, gamma=0.1, kernel=rbf;, score=0.615 total time=   0.0s\n",
      "[CV 10/10] END ....C=100, gamma=0.1, kernel=rbf;, score=0.641 total time=   0.0s\n",
      "[CV 1/10] END .C=100, gamma=0.01, kernel=linear;, score=0.975 total time=  10.1s\n",
      "[CV 2/10] END .C=100, gamma=0.01, kernel=linear;, score=0.975 total time=   4.4s\n",
      "[CV 3/10] END .C=100, gamma=0.01, kernel=linear;, score=0.925 total time=   7.9s\n",
      "[CV 4/10] END .C=100, gamma=0.01, kernel=linear;, score=0.975 total time=   5.5s\n",
      "[CV 5/10] END .C=100, gamma=0.01, kernel=linear;, score=0.850 total time=  11.2s\n",
      "[CV 6/10] END .C=100, gamma=0.01, kernel=linear;, score=0.900 total time=   5.2s\n",
      "[CV 7/10] END .C=100, gamma=0.01, kernel=linear;, score=0.975 total time=   7.7s\n",
      "[CV 8/10] END .C=100, gamma=0.01, kernel=linear;, score=0.950 total time=   1.9s\n",
      "[CV 9/10] END .C=100, gamma=0.01, kernel=linear;, score=0.974 total time=   4.8s\n",
      "[CV 10/10] END C=100, gamma=0.01, kernel=linear;, score=0.974 total time=   9.8s\n",
      "[CV 1/10] END ....C=100, gamma=0.01, kernel=rbf;, score=0.625 total time=   0.0s\n",
      "[CV 2/10] END ....C=100, gamma=0.01, kernel=rbf;, score=0.625 total time=   0.0s\n",
      "[CV 3/10] END ....C=100, gamma=0.01, kernel=rbf;, score=0.625 total time=   0.0s\n",
      "[CV 4/10] END ....C=100, gamma=0.01, kernel=rbf;, score=0.625 total time=   0.0s\n",
      "[CV 5/10] END ....C=100, gamma=0.01, kernel=rbf;, score=0.625 total time=   0.0s\n",
      "[CV 6/10] END ....C=100, gamma=0.01, kernel=rbf;, score=0.625 total time=   0.0s\n",
      "[CV 7/10] END ....C=100, gamma=0.01, kernel=rbf;, score=0.650 total time=   0.0s\n",
      "[CV 8/10] END ....C=100, gamma=0.01, kernel=rbf;, score=0.625 total time=   0.0s\n",
      "[CV 9/10] END ....C=100, gamma=0.01, kernel=rbf;, score=0.615 total time=   0.0s\n",
      "[CV 10/10] END ...C=100, gamma=0.01, kernel=rbf;, score=0.641 total time=   0.0s\n",
      "[CV 1/10] END C=100, gamma=0.001, kernel=linear;, score=0.975 total time=  10.1s\n",
      "[CV 2/10] END C=100, gamma=0.001, kernel=linear;, score=0.975 total time=   4.4s\n",
      "[CV 3/10] END C=100, gamma=0.001, kernel=linear;, score=0.925 total time=   8.0s\n",
      "[CV 4/10] END C=100, gamma=0.001, kernel=linear;, score=0.975 total time=   5.8s\n",
      "[CV 5/10] END C=100, gamma=0.001, kernel=linear;, score=0.850 total time=  11.3s\n",
      "[CV 6/10] END C=100, gamma=0.001, kernel=linear;, score=0.900 total time=   5.2s\n",
      "[CV 7/10] END C=100, gamma=0.001, kernel=linear;, score=0.975 total time=   7.7s\n",
      "[CV 8/10] END C=100, gamma=0.001, kernel=linear;, score=0.950 total time=   1.8s\n",
      "[CV 9/10] END C=100, gamma=0.001, kernel=linear;, score=0.974 total time=   4.8s\n",
      "[CV 10/10] END C=100, gamma=0.001, kernel=linear;, score=0.974 total time=   9.8s\n",
      "[CV 1/10] END ...C=100, gamma=0.001, kernel=rbf;, score=0.925 total time=   0.0s\n",
      "[CV 2/10] END ...C=100, gamma=0.001, kernel=rbf;, score=0.875 total time=   0.0s\n",
      "[CV 3/10] END ...C=100, gamma=0.001, kernel=rbf;, score=0.850 total time=   0.0s\n",
      "[CV 4/10] END ...C=100, gamma=0.001, kernel=rbf;, score=0.925 total time=   0.0s\n",
      "[CV 5/10] END ...C=100, gamma=0.001, kernel=rbf;, score=0.900 total time=   0.0s\n",
      "[CV 6/10] END ...C=100, gamma=0.001, kernel=rbf;, score=0.925 total time=   0.0s\n",
      "[CV 7/10] END ...C=100, gamma=0.001, kernel=rbf;, score=0.875 total time=   0.0s\n",
      "[CV 8/10] END ...C=100, gamma=0.001, kernel=rbf;, score=0.900 total time=   0.0s\n",
      "[CV 9/10] END ...C=100, gamma=0.001, kernel=rbf;, score=0.795 total time=   0.0s\n",
      "[CV 10/10] END ..C=100, gamma=0.001, kernel=rbf;, score=0.872 total time=   0.0s\n",
      "              precision    recall  f1-score   support\n",
      "\n",
      "           0       0.94      0.97      0.95        63\n",
      "           1       0.98      0.96      0.97       108\n",
      "\n",
      "    accuracy                           0.96       171\n",
      "   macro avg       0.96      0.97      0.96       171\n",
      "weighted avg       0.97      0.96      0.97       171\n",
      "\n"
     ]
    }
   ],
   "source": [
    "from sklearn.svm import SVC\n",
    "from sklearn.metrics import classification_report\n",
    "import numpy as np\n",
    "import warnings\n",
    "warnings.filterwarnings('ignore')\n",
    "\n",
    "\n",
    "# parameter tuning\n",
    "param_grid = {'C': [0.1, 1, 10, 100], \n",
    "              'gamma': [1, 0.1, 0.01, 0.001],'kernel': ['linear', 'rbf']} \n",
    "\n",
    "#Finding best parameters \n",
    "SVM_GS = GridSearchCV(SVC(), param_grid, refit = True, verbose = 3,cv=cv)\n",
    "  \n",
    "# Train the model with the best parameters\n",
    "SVM_GS.fit(X_train, y_train)\n",
    "\n",
    "y_pred_svm=SVM_GS.predict(X_test)\n",
    "\n",
    "\n",
    "print(classification_report(y_test, y_pred_svm))"
   ]
  },
  {
   "cell_type": "code",
   "execution_count": 40,
   "metadata": {
    "colab": {
     "base_uri": "https://localhost:8080/"
    },
    "id": "Vq16en0eVAKh",
    "outputId": "f9ba92c5-12de-40ab-a394-c6602a2b3b96"
   },
   "outputs": [
    {
     "name": "stdout",
     "output_type": "stream",
     "text": [
      "Accuracy: 0.9649122807017544\n",
      "Precision: 0.9811320754716981\n",
      "Recall: 0.9629629629629629\n"
     ]
    }
   ],
   "source": [
    "#Import scikit-learn metrics module for accuracy calculation\n",
    "from sklearn import metrics\n",
    "\n",
    "# Model Accuracy for grid search svm\n",
    "print(\"Accuracy:\",metrics.accuracy_score(y_test, y_pred_svm))\n",
    "# Model Precision for grid search svm\n",
    "print(\"Precision:\",metrics.precision_score(y_test, y_pred_svm))\n",
    "\n",
    "# Model Recall for grid search svm\n",
    "print(\"Recall:\",metrics.recall_score(y_test, y_pred_svm))"
   ]
  },
  {
   "cell_type": "markdown",
   "metadata": {
    "id": "FiTX-qgMPM_m"
   },
   "source": [
    "# Random Forest using KFold and Grid search cv"
   ]
  },
  {
   "cell_type": "code",
   "execution_count": 41,
   "metadata": {
    "id": "YHUkiaz1RNYi"
   },
   "outputs": [],
   "source": [
    "from sklearn.ensemble import RandomForestClassifier\n",
    "\n",
    "\n",
    "param_grid = {'n_estimators': [5, 10, 15, 20],\n",
    "              'max_features': [2,4,5,8,10]\n",
    "             }\n",
    "\n",
    "\n",
    "# Instantiate the grid-search\n",
    "rf_GS= GridSearchCV(RandomForestClassifier(), param_grid, cv=cv, \n",
    "                 scoring = 'accuracy')\n",
    "\n",
    "# run the grid search on training set\n",
    "rf_GS.fit(X_train, y_train)\n",
    "\n",
    "rf_pred = rf_GS.predict(X_test)\n"
   ]
  },
  {
   "cell_type": "code",
   "execution_count": 42,
   "metadata": {
    "colab": {
     "base_uri": "https://localhost:8080/"
    },
    "id": "XWWqPte4VPkq",
    "outputId": "b6897b8a-c8fe-4884-ac6b-be49431689af"
   },
   "outputs": [
    {
     "name": "stdout",
     "output_type": "stream",
     "text": [
      "Accuracy: 0.9766081871345029\n",
      "Precision: 0.9642857142857143\n",
      "Recall: 1.0\n"
     ]
    }
   ],
   "source": [
    "#Import scikit-learn metrics module for accuracy calculation\n",
    "from sklearn import metrics\n",
    "\n",
    "# Model Accuracy: how often is the classifier correct?\n",
    "print(\"Accuracy:\",metrics.accuracy_score(y_test, rf_pred))\n",
    "# Model Precision: what percentage of positive tuples are labeled as such?\n",
    "print(\"Precision:\",metrics.precision_score(y_test, rf_pred))\n",
    "\n",
    "# Model Recall: what percentage of positive tuples are labelled as such?\n",
    "print(\"Recall:\",metrics.recall_score(y_test, rf_pred))\n"
   ]
  },
  {
   "cell_type": "markdown",
   "metadata": {
    "id": "ZaV8a4mfPPh0"
   },
   "source": [
    "# Logistic Regression using KFold and Grid search cv"
   ]
  },
  {
   "cell_type": "code",
   "execution_count": 43,
   "metadata": {
    "id": "onlP-7osLwWP"
   },
   "outputs": [],
   "source": [
    "from sklearn.linear_model import LogisticRegression\n",
    "\n",
    "parameters = {\n",
    "    'penalty' : ['l1','l2'],\"C\":np.logspace(-3,3,7)\n",
    "}\n",
    "\n",
    "lr= GridSearchCV( LogisticRegression(),            \n",
    "                   param_grid = parameters, \n",
    "                   scoring='accuracy',       \n",
    "                   cv=cv)    \n",
    "\n",
    "\n",
    "# run the grid search on training set\n",
    "lr.fit(X_train, y_train)\n",
    "\n",
    "lr_pred = lr.predict(X_test)\n"
   ]
  },
  {
   "cell_type": "code",
   "execution_count": 44,
   "metadata": {
    "colab": {
     "base_uri": "https://localhost:8080/"
    },
    "id": "h_kPJs0AVYBW",
    "outputId": "b7453986-c019-48ed-f0ca-c40802c0f98a"
   },
   "outputs": [
    {
     "name": "stdout",
     "output_type": "stream",
     "text": [
      "Accuracy: 0.9415204678362573\n",
      "Precision: 0.9537037037037037\n",
      "Recall: 0.9537037037037037\n"
     ]
    }
   ],
   "source": [
    "#Import scikit-learn metrics module for accuracy calculation\n",
    "from sklearn import metrics\n",
    "\n",
    "# Model Accuracy: how often is the classifier correct?\n",
    "print(\"Accuracy:\",metrics.accuracy_score(y_test, lr_pred))\n",
    "# Model Precision: what percentage of positive tuples are labeled as such?\n",
    "print(\"Precision:\",metrics.precision_score(y_test, lr_pred))\n",
    "\n",
    "# Model Recall: what percentage of positive tuples are labelled as such?\n",
    "print(\"Recall:\",metrics.recall_score(y_test, lr_pred))\n"
   ]
  },
  {
   "cell_type": "markdown",
   "metadata": {},
   "source": [
    "#### Visualizing metrics"
   ]
  },
  {
   "cell_type": "code",
   "execution_count": 45,
   "metadata": {},
   "outputs": [
    {
     "data": {
      "image/png": "[encoded data removed]",
      "text/plain": [
       "<Figure size 400x500 with 1 Axes>"
      ]
     },
     "metadata": {},
     "output_type": "display_data"
    }
   ],
   "source": [
    "# Create a scatter plot of the data, with different colors for the predicted and true labels\n",
    "import matplotlib.pyplot as plt\n",
    "plt.scatter(X_test[:, 0], X_test[:, 1], c='b', alpha=0.5, marker='o', s=80, label='True Labels')\n",
    "plt.scatter(X_test[:, 0], X_test[:, 1], c='r', marker='x', s=100, label='Predicted Labels')\n",
    "\n",
    "plt.xlabel('Feature 1')\n",
    "plt.ylabel('Feature 2')\n",
    "plt.title('Logistic Regression Model\\nAccuracy = {:.2f}'.format(metrics.accuracy_score(y_test, lr_pred)))\n",
    "plt.legend()\n",
    "plt.show()"
   ]
  },
  {
   "cell_type": "code",
   "execution_count": 46,
   "metadata": {
    "id": "BwFCCLiNYzoq"
   },
   "outputs": [],
   "source": [
    "import pandas as pd\n",
    "DF=pd.DataFrame(columns=['Model' ,'Accuracy','Precision','recall'])\n",
    "\n",
    "DF['Model']=['SVM','RandomForest', 'LogisticRegression']\n",
    "DF['Accuracy']=[metrics.accuracy_score(y_test, y_pred_svm),\n",
    "                metrics.accuracy_score(y_test, rf_pred),\n",
    "                metrics.accuracy_score(y_test, lr_pred)]\n",
    "DF['Precision']=[metrics.precision_score(y_test, y_pred_svm),\n",
    "                 metrics.precision_score(y_test, rf_pred),\n",
    "                 metrics.precision_score(y_test, lr_pred)]\n",
    "DF['recall']=[metrics.recall_score(y_test, y_pred_svm),\n",
    "              metrics.recall_score(y_test, rf_pred),\n",
    "              metrics.recall_score(y_test, lr_pred)]"
   ]
  },
  {
   "cell_type": "code",
   "execution_count": 47,
   "metadata": {
    "colab": {
     "base_uri": "https://localhost:8080/",
     "height": 143
    },
    "id": "W7xGbkQwZxsB",
    "outputId": "4f82b8f0-1587-4deb-a5af-145db26942e1"
   },
   "outputs": [
    {
     "data": {
      "text/html": [
       "<div>\n",
       "<style scoped>\n",
       "    .dataframe tbody tr th:only-of-type {\n",
       "        vertical-align: middle;\n",
       "    }\n",
       "\n",
       "    .dataframe tbody tr th {\n",
       "        vertical-align: top;\n",
       "    }\n",
       "\n",
       "    .dataframe thead th {\n",
       "        text-align: right;\n",
       "    }\n",
       "</style>\n",
       "<table border=\"1\" class=\"dataframe\">\n",
       "  <thead>\n",
       "    <tr style=\"text-align: right;\">\n",
       "      <th></th>\n",
       "      <th>Model</th>\n",
       "      <th>Accuracy</th>\n",
       "      <th>Precision</th>\n",
       "      <th>recall</th>\n",
       "    </tr>\n",
       "  </thead>\n",
       "  <tbody>\n",
       "    <tr>\n",
       "      <th>0</th>\n",
       "      <td>SVM</td>\n",
       "      <td>0.964912</td>\n",
       "      <td>0.981132</td>\n",
       "      <td>0.962963</td>\n",
       "    </tr>\n",
       "    <tr>\n",
       "      <th>1</th>\n",
       "      <td>RandomForest</td>\n",
       "      <td>0.976608</td>\n",
       "      <td>0.964286</td>\n",
       "      <td>1.000000</td>\n",
       "    </tr>\n",
       "    <tr>\n",
       "      <th>2</th>\n",
       "      <td>LogisticRegression</td>\n",
       "      <td>0.941520</td>\n",
       "      <td>0.953704</td>\n",
       "      <td>0.953704</td>\n",
       "    </tr>\n",
       "  </tbody>\n",
       "</table>\n",
       "</div>"
      ],
      "text/plain": [
       "                Model  Accuracy  Precision    recall\n",
       "0                 SVM  0.964912   0.981132  0.962963\n",
       "1        RandomForest  0.976608   0.964286  1.000000\n",
       "2  LogisticRegression  0.941520   0.953704  0.953704"
      ]
     },
     "execution_count": 47,
     "metadata": {},
     "output_type": "execute_result"
    }
   ],
   "source": [
    "DF"
   ]
  },
  {
   "cell_type": "code",
   "execution_count": null,
   "metadata": {},
   "outputs": [],
   "source": []
  }
 ],
 "metadata": {
  "colab": {
   "provenance": []
  },
  "gpuClass": "standard",
  "kernelspec": {
   "display_name": "Python 3 (ipykernel)",
   "language": "python",
   "name": "python3"
  },
  "language_info": {
   "codemirror_mode": {
    "name": "ipython",
    "version": 3
   },
   "file_extension": ".py",
   "mimetype": "text/x-python",
   "name": "python",
   "nbconvert_exporter": "python",
   "pygments_lexer": "ipython3",
   "version": "3.8.10"
  }
 },
 "nbformat": 4,
 "nbformat_minor": 1
}
